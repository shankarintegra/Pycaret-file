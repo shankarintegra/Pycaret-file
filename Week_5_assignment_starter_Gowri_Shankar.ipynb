{
 "cells": [
  {
   "cell_type": "markdown",
   "id": "165166dd",
   "metadata": {},
   "source": [
    "# DS Automation Assignment"
   ]
  },
  {
   "cell_type": "markdown",
   "id": "c195af74",
   "metadata": {},
   "source": [
    "Using our prepared churn data from week 2:\n",
    "- use pycaret to find an ML algorithm that performs best on the data\n",
    "    - Choose a metric you think is best to use for finding the best model; by default, it is accuracy but it could be AUC, precision, recall, etc. The week 3 FTE has some information on these different metrics.\n",
    "- save the model to disk\n",
    "- create a Python script/file/module with a function that takes a pandas dataframe as an input and returns the probability of churn for each row in the dataframe\n",
    "    - your Python file/function should print out the predictions for new data (new_churn_data.csv)\n",
    "    - the true values for the new data are [1, 0, 0, 1, 0] if you're interested\n",
    "- test your Python module and function with the new data, new_churn_data.csv\n",
    "- write a short summary of the process and results at the end of this notebook\n",
    "- upload this Jupyter Notebook and Python file to a Github repository, and turn in a link to the repository in the week 5 assignment dropbox\n",
    "\n",
    "*Optional* challenges:\n",
    "- return the probability of churn for each new prediction, and the percentile where that prediction is in the distribution of probability predictions from the training dataset (e.g. a high probability of churn like 0.78 might be at the 90th percentile)\n",
    "- use other autoML packages, such as TPOT, H2O, MLBox, etc, and compare performance and features with pycaret\n",
    "- create a class in your Python module to hold the functions that you created\n",
    "- accept user input to specify a file using a tool such as Python's `input()` function, the `click` package for command-line arguments, or a GUI\n",
    "- Use the unmodified churn data (new_unmodified_churn_data.csv) in your Python script. This will require adding the same preprocessing steps from week 2 since this data is like the original unmodified dataset from week 1."
   ]
  },
  {
   "cell_type": "code",
   "execution_count": 80,
   "id": "476ed965",
   "metadata": {},
   "outputs": [
    {
     "data": {
      "text/html": [
       "<div>\n",
       "<style scoped>\n",
       "    .dataframe tbody tr th:only-of-type {\n",
       "        vertical-align: middle;\n",
       "    }\n",
       "\n",
       "    .dataframe tbody tr th {\n",
       "        vertical-align: top;\n",
       "    }\n",
       "\n",
       "    .dataframe thead th {\n",
       "        text-align: right;\n",
       "    }\n",
       "</style>\n",
       "<table border=\"1\" class=\"dataframe\">\n",
       "  <thead>\n",
       "    <tr style=\"text-align: right;\">\n",
       "      <th></th>\n",
       "      <th>customerID</th>\n",
       "      <th>tenure</th>\n",
       "      <th>PhoneService</th>\n",
       "      <th>Contract</th>\n",
       "      <th>PaymentMethod</th>\n",
       "      <th>MonthlyCharges</th>\n",
       "      <th>TotalCharges</th>\n",
       "      <th>Churn</th>\n",
       "    </tr>\n",
       "  </thead>\n",
       "  <tbody>\n",
       "    <tr>\n",
       "      <th>0</th>\n",
       "      <td>7590-VHVEG</td>\n",
       "      <td>1</td>\n",
       "      <td>No</td>\n",
       "      <td>Month-to-month</td>\n",
       "      <td>Electronic check</td>\n",
       "      <td>29.85</td>\n",
       "      <td>29.85</td>\n",
       "      <td>No</td>\n",
       "    </tr>\n",
       "    <tr>\n",
       "      <th>1</th>\n",
       "      <td>5575-GNVDE</td>\n",
       "      <td>34</td>\n",
       "      <td>Yes</td>\n",
       "      <td>One year</td>\n",
       "      <td>Mailed check</td>\n",
       "      <td>56.95</td>\n",
       "      <td>1889.50</td>\n",
       "      <td>No</td>\n",
       "    </tr>\n",
       "    <tr>\n",
       "      <th>2</th>\n",
       "      <td>3668-QPYBK</td>\n",
       "      <td>2</td>\n",
       "      <td>Yes</td>\n",
       "      <td>Month-to-month</td>\n",
       "      <td>Mailed check</td>\n",
       "      <td>53.85</td>\n",
       "      <td>108.15</td>\n",
       "      <td>Yes</td>\n",
       "    </tr>\n",
       "    <tr>\n",
       "      <th>3</th>\n",
       "      <td>7795-CFOCW</td>\n",
       "      <td>45</td>\n",
       "      <td>No</td>\n",
       "      <td>One year</td>\n",
       "      <td>Bank transfer (automatic)</td>\n",
       "      <td>42.30</td>\n",
       "      <td>1840.75</td>\n",
       "      <td>No</td>\n",
       "    </tr>\n",
       "    <tr>\n",
       "      <th>4</th>\n",
       "      <td>9237-HQITU</td>\n",
       "      <td>2</td>\n",
       "      <td>Yes</td>\n",
       "      <td>Month-to-month</td>\n",
       "      <td>Electronic check</td>\n",
       "      <td>70.70</td>\n",
       "      <td>151.65</td>\n",
       "      <td>Yes</td>\n",
       "    </tr>\n",
       "  </tbody>\n",
       "</table>\n",
       "</div>"
      ],
      "text/plain": [
       "   customerID  tenure PhoneService        Contract              PaymentMethod  \\\n",
       "0  7590-VHVEG       1           No  Month-to-month           Electronic check   \n",
       "1  5575-GNVDE      34          Yes        One year               Mailed check   \n",
       "2  3668-QPYBK       2          Yes  Month-to-month               Mailed check   \n",
       "3  7795-CFOCW      45           No        One year  Bank transfer (automatic)   \n",
       "4  9237-HQITU       2          Yes  Month-to-month           Electronic check   \n",
       "\n",
       "   MonthlyCharges  TotalCharges Churn  \n",
       "0           29.85         29.85    No  \n",
       "1           56.95       1889.50    No  \n",
       "2           53.85        108.15   Yes  \n",
       "3           42.30       1840.75    No  \n",
       "4           70.70        151.65   Yes  "
      ]
     },
     "execution_count": 80,
     "metadata": {},
     "output_type": "execute_result"
    }
   ],
   "source": [
    "\n",
    "import pandas as pd\n",
    "import numpy as np\n",
    "from sklearn.model_selection import train_test_split\n",
    "from sklearn.linear_model import LogisticRegression\n",
    "import matplotlib.pyplot as plt\n",
    "import seaborn as sns\n",
    "sns.set()\n",
    "\n",
    "gs = pd.read_csv('/users/p2942432/downloads/churn_data.csv')\n",
    "gs.head()"
   ]
  },
  {
   "cell_type": "markdown",
   "id": "ff1bcc44-4838-445d-a720-2661ab307fa9",
   "metadata": {},
   "source": [
    "Converted all the columns (strings) to Machine learning language of all columns data should be numeric to fit the ML model and setup the pycaret model."
   ]
  },
  {
   "cell_type": "code",
   "execution_count": 81,
   "id": "5fec1ba4-de68-4132-86a1-39f4a19fc282",
   "metadata": {},
   "outputs": [
    {
     "data": {
      "text/html": [
       "<div>\n",
       "<style scoped>\n",
       "    .dataframe tbody tr th:only-of-type {\n",
       "        vertical-align: middle;\n",
       "    }\n",
       "\n",
       "    .dataframe tbody tr th {\n",
       "        vertical-align: top;\n",
       "    }\n",
       "\n",
       "    .dataframe thead th {\n",
       "        text-align: right;\n",
       "    }\n",
       "</style>\n",
       "<table border=\"1\" class=\"dataframe\">\n",
       "  <thead>\n",
       "    <tr style=\"text-align: right;\">\n",
       "      <th></th>\n",
       "      <th>customerID</th>\n",
       "      <th>tenure</th>\n",
       "      <th>PhoneService</th>\n",
       "      <th>Contract</th>\n",
       "      <th>PaymentMethod</th>\n",
       "      <th>MonthlyCharges</th>\n",
       "      <th>TotalCharges</th>\n",
       "      <th>Churn</th>\n",
       "    </tr>\n",
       "  </thead>\n",
       "  <tbody>\n",
       "    <tr>\n",
       "      <th>0</th>\n",
       "      <td>7590-VHVEG</td>\n",
       "      <td>1</td>\n",
       "      <td>0</td>\n",
       "      <td>0</td>\n",
       "      <td>0</td>\n",
       "      <td>29.85</td>\n",
       "      <td>29.85</td>\n",
       "      <td>0</td>\n",
       "    </tr>\n",
       "    <tr>\n",
       "      <th>1</th>\n",
       "      <td>5575-GNVDE</td>\n",
       "      <td>34</td>\n",
       "      <td>1</td>\n",
       "      <td>1</td>\n",
       "      <td>0</td>\n",
       "      <td>56.95</td>\n",
       "      <td>1889.50</td>\n",
       "      <td>0</td>\n",
       "    </tr>\n",
       "    <tr>\n",
       "      <th>2</th>\n",
       "      <td>3668-QPYBK</td>\n",
       "      <td>2</td>\n",
       "      <td>1</td>\n",
       "      <td>0</td>\n",
       "      <td>0</td>\n",
       "      <td>53.85</td>\n",
       "      <td>108.15</td>\n",
       "      <td>1</td>\n",
       "    </tr>\n",
       "    <tr>\n",
       "      <th>3</th>\n",
       "      <td>7795-CFOCW</td>\n",
       "      <td>45</td>\n",
       "      <td>0</td>\n",
       "      <td>1</td>\n",
       "      <td>1</td>\n",
       "      <td>42.30</td>\n",
       "      <td>1840.75</td>\n",
       "      <td>0</td>\n",
       "    </tr>\n",
       "    <tr>\n",
       "      <th>4</th>\n",
       "      <td>9237-HQITU</td>\n",
       "      <td>2</td>\n",
       "      <td>1</td>\n",
       "      <td>0</td>\n",
       "      <td>0</td>\n",
       "      <td>70.70</td>\n",
       "      <td>151.65</td>\n",
       "      <td>1</td>\n",
       "    </tr>\n",
       "  </tbody>\n",
       "</table>\n",
       "</div>"
      ],
      "text/plain": [
       "   customerID  tenure  PhoneService  Contract  PaymentMethod  MonthlyCharges  \\\n",
       "0  7590-VHVEG       1             0         0              0           29.85   \n",
       "1  5575-GNVDE      34             1         1              0           56.95   \n",
       "2  3668-QPYBK       2             1         0              0           53.85   \n",
       "3  7795-CFOCW      45             0         1              1           42.30   \n",
       "4  9237-HQITU       2             1         0              0           70.70   \n",
       "\n",
       "   TotalCharges  Churn  \n",
       "0         29.85      0  \n",
       "1       1889.50      0  \n",
       "2        108.15      1  \n",
       "3       1840.75      0  \n",
       "4        151.65      1  "
      ]
     },
     "execution_count": 81,
     "metadata": {},
     "output_type": "execute_result"
    }
   ],
   "source": [
    "gs['PhoneService'] = gs.PhoneService.map({'Yes':1,'No':0})\n",
    "gs['Contract'] = gs.Contract.map({'One year':1,'Two year':1,'Month-to-month':0})\n",
    "gs['PaymentMethod'] = gs.PaymentMethod.map({'Bank transfer (automatic)':1,'Credit card (automatic)':1,'Electronic check':0,'Mailed check':0})\n",
    "gs['Churn'] = gs.Churn.map({'Yes':1,'No':0})\n",
    "gs.loc[gs['MonthlyCharges']==' ','MonthlyCharges'] = np.nan \n",
    "gs['MonthlyCharges'] = gs['MonthlyCharges'].astype('float64')\n",
    "gs.loc[gs['TotalCharges']==' ','TotalCharges'] = np.nan\n",
    "gs['TotalCharges'] = gs['TotalCharges'].astype('float64')\n",
    "gs.head()\n"
   ]
  },
  {
   "cell_type": "markdown",
   "id": "5ae1b211-ad70-464f-a823-dd06ed5ab71c",
   "metadata": {},
   "source": [
    "Checking for any missing values in the Churn data sheet and found that 'TotalCharges' has 11 missing values as shown below."
   ]
  },
  {
   "cell_type": "code",
   "execution_count": 82,
   "id": "4c0f5599-94aa-4e21-b409-2cf49eae4312",
   "metadata": {},
   "outputs": [
    {
     "data": {
      "text/plain": [
       "customerID         0\n",
       "tenure             0\n",
       "PhoneService       0\n",
       "Contract           0\n",
       "PaymentMethod      0\n",
       "MonthlyCharges     0\n",
       "TotalCharges      11\n",
       "Churn              0\n",
       "dtype: int64"
      ]
     },
     "execution_count": 82,
     "metadata": {},
     "output_type": "execute_result"
    }
   ],
   "source": [
    "gs.isna().sum()"
   ]
  },
  {
   "cell_type": "markdown",
   "id": "23b4f139-0206-450e-991f-dc16652af18f",
   "metadata": {},
   "source": [
    "Filled those missing values with mean which is not accurate but I tried to fill the TotalCharges with 0's as accurate values but unbale to setup the pycaret model so I will take a look why it is getting error if I get sometime later."
   ]
  },
  {
   "cell_type": "code",
   "execution_count": 83,
   "id": "ab0deada-984d-4b38-876e-a5d5934210dc",
   "metadata": {},
   "outputs": [],
   "source": [
    "gs['TotalCharges'].fillna(gs['TotalCharges'].mean(), inplace=True)"
   ]
  },
  {
   "cell_type": "markdown",
   "id": "0bfd1219-bac0-4049-9c2d-43553193ae15",
   "metadata": {},
   "source": [
    "After filling the values with mean data then checked again for any missing values."
   ]
  },
  {
   "cell_type": "code",
   "execution_count": 84,
   "id": "9e5daa4a-02a5-4e2e-af2a-80ea93a6f4d4",
   "metadata": {},
   "outputs": [
    {
     "data": {
      "text/plain": [
       "customerID        0\n",
       "tenure            0\n",
       "PhoneService      0\n",
       "Contract          0\n",
       "PaymentMethod     0\n",
       "MonthlyCharges    0\n",
       "TotalCharges      0\n",
       "Churn             0\n",
       "dtype: int64"
      ]
     },
     "execution_count": 84,
     "metadata": {},
     "output_type": "execute_result"
    }
   ],
   "source": [
    "gs.isna().sum()"
   ]
  },
  {
   "cell_type": "markdown",
   "id": "bfe4b67e-c0b3-4599-8a33-c3a683e96974",
   "metadata": {},
   "source": [
    "Importing pycaret classification methods to setup, compare, predictions, save and load the models."
   ]
  },
  {
   "cell_type": "code",
   "execution_count": 85,
   "id": "fe177b16-df21-4a02-a54c-521f2230f23e",
   "metadata": {},
   "outputs": [],
   "source": [
    "from pycaret.classification import ClassificationExperiment #setup, compare_models, predict_model, save_model, load_model"
   ]
  },
  {
   "cell_type": "markdown",
   "id": "2bc73ba4-5f93-48e9-948c-7683527d66c2",
   "metadata": {},
   "source": [
    "Setup initiated for target churn data assigned to churnML."
   ]
  },
  {
   "cell_type": "code",
   "execution_count": 86,
   "id": "a6fadad9-9e07-4af7-99f3-a976a21249ad",
   "metadata": {},
   "outputs": [],
   "source": [
    "churnML = ClassificationExperiment() #setup(gs, target='churn')"
   ]
  },
  {
   "cell_type": "markdown",
   "id": "1aeecf36-2681-411d-a2f9-1d2471a338ce",
   "metadata": {},
   "source": [
    "This will ask us to check if the datatypes of the input data are correct. In this case, they seem fine. "
   ]
  },
  {
   "cell_type": "code",
   "execution_count": 88,
   "id": "590417b6-ea10-49ca-90a7-210f6935b87f",
   "metadata": {},
   "outputs": [
    {
     "data": {
      "text/html": [
       "<style type=\"text/css\">\n",
       "#T_a1821_row9_col1 {\n",
       "  background-color: lightgreen;\n",
       "}\n",
       "</style>\n",
       "<table id=\"T_a1821\">\n",
       "  <thead>\n",
       "    <tr>\n",
       "      <th class=\"blank level0\" >&nbsp;</th>\n",
       "      <th id=\"T_a1821_level0_col0\" class=\"col_heading level0 col0\" >Description</th>\n",
       "      <th id=\"T_a1821_level0_col1\" class=\"col_heading level0 col1\" >Value</th>\n",
       "    </tr>\n",
       "  </thead>\n",
       "  <tbody>\n",
       "    <tr>\n",
       "      <th id=\"T_a1821_level0_row0\" class=\"row_heading level0 row0\" >0</th>\n",
       "      <td id=\"T_a1821_row0_col0\" class=\"data row0 col0\" >Session id</td>\n",
       "      <td id=\"T_a1821_row0_col1\" class=\"data row0 col1\" >319</td>\n",
       "    </tr>\n",
       "    <tr>\n",
       "      <th id=\"T_a1821_level0_row1\" class=\"row_heading level0 row1\" >1</th>\n",
       "      <td id=\"T_a1821_row1_col0\" class=\"data row1 col0\" >Target</td>\n",
       "      <td id=\"T_a1821_row1_col1\" class=\"data row1 col1\" >Churn</td>\n",
       "    </tr>\n",
       "    <tr>\n",
       "      <th id=\"T_a1821_level0_row2\" class=\"row_heading level0 row2\" >2</th>\n",
       "      <td id=\"T_a1821_row2_col0\" class=\"data row2 col0\" >Target type</td>\n",
       "      <td id=\"T_a1821_row2_col1\" class=\"data row2 col1\" >Binary</td>\n",
       "    </tr>\n",
       "    <tr>\n",
       "      <th id=\"T_a1821_level0_row3\" class=\"row_heading level0 row3\" >3</th>\n",
       "      <td id=\"T_a1821_row3_col0\" class=\"data row3 col0\" >Original data shape</td>\n",
       "      <td id=\"T_a1821_row3_col1\" class=\"data row3 col1\" >(7043, 8)</td>\n",
       "    </tr>\n",
       "    <tr>\n",
       "      <th id=\"T_a1821_level0_row4\" class=\"row_heading level0 row4\" >4</th>\n",
       "      <td id=\"T_a1821_row4_col0\" class=\"data row4 col0\" >Transformed data shape</td>\n",
       "      <td id=\"T_a1821_row4_col1\" class=\"data row4 col1\" >(7043, 8)</td>\n",
       "    </tr>\n",
       "    <tr>\n",
       "      <th id=\"T_a1821_level0_row5\" class=\"row_heading level0 row5\" >5</th>\n",
       "      <td id=\"T_a1821_row5_col0\" class=\"data row5 col0\" >Transformed train set shape</td>\n",
       "      <td id=\"T_a1821_row5_col1\" class=\"data row5 col1\" >(4930, 8)</td>\n",
       "    </tr>\n",
       "    <tr>\n",
       "      <th id=\"T_a1821_level0_row6\" class=\"row_heading level0 row6\" >6</th>\n",
       "      <td id=\"T_a1821_row6_col0\" class=\"data row6 col0\" >Transformed test set shape</td>\n",
       "      <td id=\"T_a1821_row6_col1\" class=\"data row6 col1\" >(2113, 8)</td>\n",
       "    </tr>\n",
       "    <tr>\n",
       "      <th id=\"T_a1821_level0_row7\" class=\"row_heading level0 row7\" >7</th>\n",
       "      <td id=\"T_a1821_row7_col0\" class=\"data row7 col0\" >Numeric features</td>\n",
       "      <td id=\"T_a1821_row7_col1\" class=\"data row7 col1\" >6</td>\n",
       "    </tr>\n",
       "    <tr>\n",
       "      <th id=\"T_a1821_level0_row8\" class=\"row_heading level0 row8\" >8</th>\n",
       "      <td id=\"T_a1821_row8_col0\" class=\"data row8 col0\" >Categorical features</td>\n",
       "      <td id=\"T_a1821_row8_col1\" class=\"data row8 col1\" >1</td>\n",
       "    </tr>\n",
       "    <tr>\n",
       "      <th id=\"T_a1821_level0_row9\" class=\"row_heading level0 row9\" >9</th>\n",
       "      <td id=\"T_a1821_row9_col0\" class=\"data row9 col0\" >Preprocess</td>\n",
       "      <td id=\"T_a1821_row9_col1\" class=\"data row9 col1\" >True</td>\n",
       "    </tr>\n",
       "    <tr>\n",
       "      <th id=\"T_a1821_level0_row10\" class=\"row_heading level0 row10\" >10</th>\n",
       "      <td id=\"T_a1821_row10_col0\" class=\"data row10 col0\" >Imputation type</td>\n",
       "      <td id=\"T_a1821_row10_col1\" class=\"data row10 col1\" >simple</td>\n",
       "    </tr>\n",
       "    <tr>\n",
       "      <th id=\"T_a1821_level0_row11\" class=\"row_heading level0 row11\" >11</th>\n",
       "      <td id=\"T_a1821_row11_col0\" class=\"data row11 col0\" >Numeric imputation</td>\n",
       "      <td id=\"T_a1821_row11_col1\" class=\"data row11 col1\" >mean</td>\n",
       "    </tr>\n",
       "    <tr>\n",
       "      <th id=\"T_a1821_level0_row12\" class=\"row_heading level0 row12\" >12</th>\n",
       "      <td id=\"T_a1821_row12_col0\" class=\"data row12 col0\" >Categorical imputation</td>\n",
       "      <td id=\"T_a1821_row12_col1\" class=\"data row12 col1\" >mode</td>\n",
       "    </tr>\n",
       "    <tr>\n",
       "      <th id=\"T_a1821_level0_row13\" class=\"row_heading level0 row13\" >13</th>\n",
       "      <td id=\"T_a1821_row13_col0\" class=\"data row13 col0\" >Maximum one-hot encoding</td>\n",
       "      <td id=\"T_a1821_row13_col1\" class=\"data row13 col1\" >25</td>\n",
       "    </tr>\n",
       "    <tr>\n",
       "      <th id=\"T_a1821_level0_row14\" class=\"row_heading level0 row14\" >14</th>\n",
       "      <td id=\"T_a1821_row14_col0\" class=\"data row14 col0\" >Encoding method</td>\n",
       "      <td id=\"T_a1821_row14_col1\" class=\"data row14 col1\" >None</td>\n",
       "    </tr>\n",
       "    <tr>\n",
       "      <th id=\"T_a1821_level0_row15\" class=\"row_heading level0 row15\" >15</th>\n",
       "      <td id=\"T_a1821_row15_col0\" class=\"data row15 col0\" >Fold Generator</td>\n",
       "      <td id=\"T_a1821_row15_col1\" class=\"data row15 col1\" >StratifiedKFold</td>\n",
       "    </tr>\n",
       "    <tr>\n",
       "      <th id=\"T_a1821_level0_row16\" class=\"row_heading level0 row16\" >16</th>\n",
       "      <td id=\"T_a1821_row16_col0\" class=\"data row16 col0\" >Fold Number</td>\n",
       "      <td id=\"T_a1821_row16_col1\" class=\"data row16 col1\" >10</td>\n",
       "    </tr>\n",
       "    <tr>\n",
       "      <th id=\"T_a1821_level0_row17\" class=\"row_heading level0 row17\" >17</th>\n",
       "      <td id=\"T_a1821_row17_col0\" class=\"data row17 col0\" >CPU Jobs</td>\n",
       "      <td id=\"T_a1821_row17_col1\" class=\"data row17 col1\" >-1</td>\n",
       "    </tr>\n",
       "    <tr>\n",
       "      <th id=\"T_a1821_level0_row18\" class=\"row_heading level0 row18\" >18</th>\n",
       "      <td id=\"T_a1821_row18_col0\" class=\"data row18 col0\" >Use GPU</td>\n",
       "      <td id=\"T_a1821_row18_col1\" class=\"data row18 col1\" >False</td>\n",
       "    </tr>\n",
       "    <tr>\n",
       "      <th id=\"T_a1821_level0_row19\" class=\"row_heading level0 row19\" >19</th>\n",
       "      <td id=\"T_a1821_row19_col0\" class=\"data row19 col0\" >Log Experiment</td>\n",
       "      <td id=\"T_a1821_row19_col1\" class=\"data row19 col1\" >False</td>\n",
       "    </tr>\n",
       "    <tr>\n",
       "      <th id=\"T_a1821_level0_row20\" class=\"row_heading level0 row20\" >20</th>\n",
       "      <td id=\"T_a1821_row20_col0\" class=\"data row20 col0\" >Experiment Name</td>\n",
       "      <td id=\"T_a1821_row20_col1\" class=\"data row20 col1\" >clf-default-name</td>\n",
       "    </tr>\n",
       "    <tr>\n",
       "      <th id=\"T_a1821_level0_row21\" class=\"row_heading level0 row21\" >21</th>\n",
       "      <td id=\"T_a1821_row21_col0\" class=\"data row21 col0\" >USI</td>\n",
       "      <td id=\"T_a1821_row21_col1\" class=\"data row21 col1\" >73ad</td>\n",
       "    </tr>\n",
       "  </tbody>\n",
       "</table>\n"
      ],
      "text/plain": [
       "<pandas.io.formats.style.Styler at 0x2a94bb150>"
      ]
     },
     "metadata": {},
     "output_type": "display_data"
    }
   ],
   "source": [
    "churnML = setup(gs, target = 'Churn')"
   ]
  },
  {
   "cell_type": "code",
   "execution_count": 107,
   "id": "d447511a-d675-4cfb-9edc-a0187397fe7c",
   "metadata": {},
   "outputs": [
    {
     "data": {
      "text/plain": [
       "<pycaret.classification.oop.ClassificationExperiment at 0x2938191d0>"
      ]
     },
     "execution_count": 107,
     "metadata": {},
     "output_type": "execute_result"
    }
   ],
   "source": [
    "churnML"
   ]
  },
  {
   "cell_type": "markdown",
   "id": "cd293235-2f0c-4163-b8fb-e5b50c4841ff",
   "metadata": {},
   "source": [
    "Next up, we simply run the autoML to find the best model:"
   ]
  },
  {
   "cell_type": "code",
   "execution_count": 90,
   "id": "235916f9-48db-40ec-af20-87cd715f9799",
   "metadata": {},
   "outputs": [
    {
     "data": {
      "text/html": [],
      "text/plain": [
       "<IPython.core.display.HTML object>"
      ]
     },
     "metadata": {},
     "output_type": "display_data"
    },
    {
     "data": {
      "text/html": [
       "<style type=\"text/css\">\n",
       "#T_70a15 th {\n",
       "  text-align: left;\n",
       "}\n",
       "#T_70a15_row0_col0, #T_70a15_row0_col2, #T_70a15_row0_col4, #T_70a15_row1_col0, #T_70a15_row1_col1, #T_70a15_row1_col2, #T_70a15_row1_col3, #T_70a15_row1_col5, #T_70a15_row1_col6, #T_70a15_row1_col7, #T_70a15_row2_col0, #T_70a15_row2_col1, #T_70a15_row2_col3, #T_70a15_row2_col4, #T_70a15_row2_col5, #T_70a15_row2_col6, #T_70a15_row2_col7, #T_70a15_row3_col0, #T_70a15_row3_col1, #T_70a15_row3_col2, #T_70a15_row3_col3, #T_70a15_row3_col4, #T_70a15_row3_col5, #T_70a15_row3_col6, #T_70a15_row3_col7, #T_70a15_row4_col0, #T_70a15_row4_col1, #T_70a15_row4_col2, #T_70a15_row4_col3, #T_70a15_row4_col4, #T_70a15_row4_col5, #T_70a15_row4_col6, #T_70a15_row4_col7, #T_70a15_row5_col0, #T_70a15_row5_col1, #T_70a15_row5_col2, #T_70a15_row5_col3, #T_70a15_row5_col4, #T_70a15_row5_col5, #T_70a15_row5_col6, #T_70a15_row5_col7, #T_70a15_row6_col0, #T_70a15_row6_col1, #T_70a15_row6_col2, #T_70a15_row6_col3, #T_70a15_row6_col4, #T_70a15_row6_col5, #T_70a15_row6_col6, #T_70a15_row6_col7, #T_70a15_row7_col0, #T_70a15_row7_col1, #T_70a15_row7_col2, #T_70a15_row7_col3, #T_70a15_row7_col4, #T_70a15_row7_col5, #T_70a15_row7_col6, #T_70a15_row7_col7, #T_70a15_row8_col0, #T_70a15_row8_col1, #T_70a15_row8_col2, #T_70a15_row8_col3, #T_70a15_row8_col4, #T_70a15_row8_col5, #T_70a15_row8_col6, #T_70a15_row8_col7, #T_70a15_row9_col0, #T_70a15_row9_col1, #T_70a15_row9_col2, #T_70a15_row9_col3, #T_70a15_row9_col4, #T_70a15_row9_col5, #T_70a15_row9_col6, #T_70a15_row9_col7, #T_70a15_row10_col0, #T_70a15_row10_col1, #T_70a15_row10_col2, #T_70a15_row10_col3, #T_70a15_row10_col4, #T_70a15_row10_col5, #T_70a15_row10_col6, #T_70a15_row10_col7, #T_70a15_row11_col0, #T_70a15_row11_col1, #T_70a15_row11_col2, #T_70a15_row11_col3, #T_70a15_row11_col4, #T_70a15_row11_col5, #T_70a15_row11_col6, #T_70a15_row11_col7, #T_70a15_row12_col0, #T_70a15_row12_col1, #T_70a15_row12_col2, #T_70a15_row12_col3, #T_70a15_row12_col4, #T_70a15_row12_col5, #T_70a15_row12_col6, #T_70a15_row12_col7, #T_70a15_row13_col0, #T_70a15_row13_col1, #T_70a15_row13_col2, #T_70a15_row13_col3, #T_70a15_row13_col4, #T_70a15_row13_col5, #T_70a15_row13_col6, #T_70a15_row13_col7 {\n",
       "  text-align: left;\n",
       "}\n",
       "#T_70a15_row0_col1, #T_70a15_row0_col3, #T_70a15_row0_col5, #T_70a15_row0_col6, #T_70a15_row0_col7, #T_70a15_row1_col4, #T_70a15_row2_col2 {\n",
       "  text-align: left;\n",
       "  background-color: yellow;\n",
       "}\n",
       "#T_70a15_row0_col8, #T_70a15_row1_col8, #T_70a15_row2_col8, #T_70a15_row4_col8, #T_70a15_row5_col8, #T_70a15_row6_col8, #T_70a15_row7_col8, #T_70a15_row8_col8, #T_70a15_row9_col8, #T_70a15_row10_col8, #T_70a15_row11_col8, #T_70a15_row12_col8, #T_70a15_row13_col8 {\n",
       "  text-align: left;\n",
       "  background-color: lightgrey;\n",
       "}\n",
       "#T_70a15_row3_col8 {\n",
       "  text-align: left;\n",
       "  background-color: yellow;\n",
       "  background-color: lightgrey;\n",
       "}\n",
       "</style>\n",
       "<table id=\"T_70a15\">\n",
       "  <thead>\n",
       "    <tr>\n",
       "      <th class=\"blank level0\" >&nbsp;</th>\n",
       "      <th id=\"T_70a15_level0_col0\" class=\"col_heading level0 col0\" >Model</th>\n",
       "      <th id=\"T_70a15_level0_col1\" class=\"col_heading level0 col1\" >Accuracy</th>\n",
       "      <th id=\"T_70a15_level0_col2\" class=\"col_heading level0 col2\" >AUC</th>\n",
       "      <th id=\"T_70a15_level0_col3\" class=\"col_heading level0 col3\" >Recall</th>\n",
       "      <th id=\"T_70a15_level0_col4\" class=\"col_heading level0 col4\" >Prec.</th>\n",
       "      <th id=\"T_70a15_level0_col5\" class=\"col_heading level0 col5\" >F1</th>\n",
       "      <th id=\"T_70a15_level0_col6\" class=\"col_heading level0 col6\" >Kappa</th>\n",
       "      <th id=\"T_70a15_level0_col7\" class=\"col_heading level0 col7\" >MCC</th>\n",
       "      <th id=\"T_70a15_level0_col8\" class=\"col_heading level0 col8\" >TT (Sec)</th>\n",
       "    </tr>\n",
       "  </thead>\n",
       "  <tbody>\n",
       "    <tr>\n",
       "      <th id=\"T_70a15_level0_row0\" class=\"row_heading level0 row0\" >nb</th>\n",
       "      <td id=\"T_70a15_row0_col0\" class=\"data row0 col0\" >Naive Bayes</td>\n",
       "      <td id=\"T_70a15_row0_col1\" class=\"data row0 col1\" >0.7671</td>\n",
       "      <td id=\"T_70a15_row0_col2\" class=\"data row0 col2\" >0.8029</td>\n",
       "      <td id=\"T_70a15_row0_col3\" class=\"data row0 col3\" >0.6399</td>\n",
       "      <td id=\"T_70a15_row0_col4\" class=\"data row0 col4\" >0.5540</td>\n",
       "      <td id=\"T_70a15_row0_col5\" class=\"data row0 col5\" >0.5931</td>\n",
       "      <td id=\"T_70a15_row0_col6\" class=\"data row0 col6\" >0.4314</td>\n",
       "      <td id=\"T_70a15_row0_col7\" class=\"data row0 col7\" >0.4341</td>\n",
       "      <td id=\"T_70a15_row0_col8\" class=\"data row0 col8\" >0.0080</td>\n",
       "    </tr>\n",
       "    <tr>\n",
       "      <th id=\"T_70a15_level0_row1\" class=\"row_heading level0 row1\" >knn</th>\n",
       "      <td id=\"T_70a15_row1_col0\" class=\"data row1 col0\" >K Neighbors Classifier</td>\n",
       "      <td id=\"T_70a15_row1_col1\" class=\"data row1 col1\" >0.7669</td>\n",
       "      <td id=\"T_70a15_row1_col2\" class=\"data row1 col2\" >0.7446</td>\n",
       "      <td id=\"T_70a15_row1_col3\" class=\"data row1 col3\" >0.4343</td>\n",
       "      <td id=\"T_70a15_row1_col4\" class=\"data row1 col4\" >0.5810</td>\n",
       "      <td id=\"T_70a15_row1_col5\" class=\"data row1 col5\" >0.4958</td>\n",
       "      <td id=\"T_70a15_row1_col6\" class=\"data row1 col6\" >0.3488</td>\n",
       "      <td id=\"T_70a15_row1_col7\" class=\"data row1 col7\" >0.3556</td>\n",
       "      <td id=\"T_70a15_row1_col8\" class=\"data row1 col8\" >0.0110</td>\n",
       "    </tr>\n",
       "    <tr>\n",
       "      <th id=\"T_70a15_level0_row2\" class=\"row_heading level0 row2\" >lr</th>\n",
       "      <td id=\"T_70a15_row2_col0\" class=\"data row2 col0\" >Logistic Regression</td>\n",
       "      <td id=\"T_70a15_row2_col1\" class=\"data row2 col1\" >0.7351</td>\n",
       "      <td id=\"T_70a15_row2_col2\" class=\"data row2 col2\" >0.8325</td>\n",
       "      <td id=\"T_70a15_row2_col3\" class=\"data row2 col3\" >0.0038</td>\n",
       "      <td id=\"T_70a15_row2_col4\" class=\"data row2 col4\" >0.2500</td>\n",
       "      <td id=\"T_70a15_row2_col5\" class=\"data row2 col5\" >0.0075</td>\n",
       "      <td id=\"T_70a15_row2_col6\" class=\"data row2 col6\" >0.0044</td>\n",
       "      <td id=\"T_70a15_row2_col7\" class=\"data row2 col7\" >0.0208</td>\n",
       "      <td id=\"T_70a15_row2_col8\" class=\"data row2 col8\" >0.2890</td>\n",
       "    </tr>\n",
       "    <tr>\n",
       "      <th id=\"T_70a15_level0_row3\" class=\"row_heading level0 row3\" >dt</th>\n",
       "      <td id=\"T_70a15_row3_col0\" class=\"data row3 col0\" >Decision Tree Classifier</td>\n",
       "      <td id=\"T_70a15_row3_col1\" class=\"data row3 col1\" >0.7347</td>\n",
       "      <td id=\"T_70a15_row3_col2\" class=\"data row3 col2\" >0.5000</td>\n",
       "      <td id=\"T_70a15_row3_col3\" class=\"data row3 col3\" >0.0000</td>\n",
       "      <td id=\"T_70a15_row3_col4\" class=\"data row3 col4\" >0.0000</td>\n",
       "      <td id=\"T_70a15_row3_col5\" class=\"data row3 col5\" >0.0000</td>\n",
       "      <td id=\"T_70a15_row3_col6\" class=\"data row3 col6\" >0.0000</td>\n",
       "      <td id=\"T_70a15_row3_col7\" class=\"data row3 col7\" >0.0000</td>\n",
       "      <td id=\"T_70a15_row3_col8\" class=\"data row3 col8\" >0.0060</td>\n",
       "    </tr>\n",
       "    <tr>\n",
       "      <th id=\"T_70a15_level0_row4\" class=\"row_heading level0 row4\" >ridge</th>\n",
       "      <td id=\"T_70a15_row4_col0\" class=\"data row4 col0\" >Ridge Classifier</td>\n",
       "      <td id=\"T_70a15_row4_col1\" class=\"data row4 col1\" >0.7347</td>\n",
       "      <td id=\"T_70a15_row4_col2\" class=\"data row4 col2\" >0.0000</td>\n",
       "      <td id=\"T_70a15_row4_col3\" class=\"data row4 col3\" >0.0000</td>\n",
       "      <td id=\"T_70a15_row4_col4\" class=\"data row4 col4\" >0.0000</td>\n",
       "      <td id=\"T_70a15_row4_col5\" class=\"data row4 col5\" >0.0000</td>\n",
       "      <td id=\"T_70a15_row4_col6\" class=\"data row4 col6\" >0.0000</td>\n",
       "      <td id=\"T_70a15_row4_col7\" class=\"data row4 col7\" >0.0000</td>\n",
       "      <td id=\"T_70a15_row4_col8\" class=\"data row4 col8\" >0.0070</td>\n",
       "    </tr>\n",
       "    <tr>\n",
       "      <th id=\"T_70a15_level0_row5\" class=\"row_heading level0 row5\" >rf</th>\n",
       "      <td id=\"T_70a15_row5_col0\" class=\"data row5 col0\" >Random Forest Classifier</td>\n",
       "      <td id=\"T_70a15_row5_col1\" class=\"data row5 col1\" >0.7347</td>\n",
       "      <td id=\"T_70a15_row5_col2\" class=\"data row5 col2\" >0.6157</td>\n",
       "      <td id=\"T_70a15_row5_col3\" class=\"data row5 col3\" >0.0000</td>\n",
       "      <td id=\"T_70a15_row5_col4\" class=\"data row5 col4\" >0.0000</td>\n",
       "      <td id=\"T_70a15_row5_col5\" class=\"data row5 col5\" >0.0000</td>\n",
       "      <td id=\"T_70a15_row5_col6\" class=\"data row5 col6\" >0.0000</td>\n",
       "      <td id=\"T_70a15_row5_col7\" class=\"data row5 col7\" >0.0000</td>\n",
       "      <td id=\"T_70a15_row5_col8\" class=\"data row5 col8\" >0.0300</td>\n",
       "    </tr>\n",
       "    <tr>\n",
       "      <th id=\"T_70a15_level0_row6\" class=\"row_heading level0 row6\" >qda</th>\n",
       "      <td id=\"T_70a15_row6_col0\" class=\"data row6 col0\" >Quadratic Discriminant Analysis</td>\n",
       "      <td id=\"T_70a15_row6_col1\" class=\"data row6 col1\" >0.7347</td>\n",
       "      <td id=\"T_70a15_row6_col2\" class=\"data row6 col2\" >0.5000</td>\n",
       "      <td id=\"T_70a15_row6_col3\" class=\"data row6 col3\" >0.0000</td>\n",
       "      <td id=\"T_70a15_row6_col4\" class=\"data row6 col4\" >0.0000</td>\n",
       "      <td id=\"T_70a15_row6_col5\" class=\"data row6 col5\" >0.0000</td>\n",
       "      <td id=\"T_70a15_row6_col6\" class=\"data row6 col6\" >0.0000</td>\n",
       "      <td id=\"T_70a15_row6_col7\" class=\"data row6 col7\" >0.0000</td>\n",
       "      <td id=\"T_70a15_row6_col8\" class=\"data row6 col8\" >0.0070</td>\n",
       "    </tr>\n",
       "    <tr>\n",
       "      <th id=\"T_70a15_level0_row7\" class=\"row_heading level0 row7\" >ada</th>\n",
       "      <td id=\"T_70a15_row7_col0\" class=\"data row7 col0\" >Ada Boost Classifier</td>\n",
       "      <td id=\"T_70a15_row7_col1\" class=\"data row7 col1\" >0.7347</td>\n",
       "      <td id=\"T_70a15_row7_col2\" class=\"data row7 col2\" >0.5000</td>\n",
       "      <td id=\"T_70a15_row7_col3\" class=\"data row7 col3\" >0.0000</td>\n",
       "      <td id=\"T_70a15_row7_col4\" class=\"data row7 col4\" >0.0000</td>\n",
       "      <td id=\"T_70a15_row7_col5\" class=\"data row7 col5\" >0.0000</td>\n",
       "      <td id=\"T_70a15_row7_col6\" class=\"data row7 col6\" >0.0000</td>\n",
       "      <td id=\"T_70a15_row7_col7\" class=\"data row7 col7\" >0.0000</td>\n",
       "      <td id=\"T_70a15_row7_col8\" class=\"data row7 col8\" >0.0070</td>\n",
       "    </tr>\n",
       "    <tr>\n",
       "      <th id=\"T_70a15_level0_row8\" class=\"row_heading level0 row8\" >gbc</th>\n",
       "      <td id=\"T_70a15_row8_col0\" class=\"data row8 col0\" >Gradient Boosting Classifier</td>\n",
       "      <td id=\"T_70a15_row8_col1\" class=\"data row8 col1\" >0.7347</td>\n",
       "      <td id=\"T_70a15_row8_col2\" class=\"data row8 col2\" >0.5000</td>\n",
       "      <td id=\"T_70a15_row8_col3\" class=\"data row8 col3\" >0.0000</td>\n",
       "      <td id=\"T_70a15_row8_col4\" class=\"data row8 col4\" >0.0000</td>\n",
       "      <td id=\"T_70a15_row8_col5\" class=\"data row8 col5\" >0.0000</td>\n",
       "      <td id=\"T_70a15_row8_col6\" class=\"data row8 col6\" >0.0000</td>\n",
       "      <td id=\"T_70a15_row8_col7\" class=\"data row8 col7\" >0.0000</td>\n",
       "      <td id=\"T_70a15_row8_col8\" class=\"data row8 col8\" >0.0230</td>\n",
       "    </tr>\n",
       "    <tr>\n",
       "      <th id=\"T_70a15_level0_row9\" class=\"row_heading level0 row9\" >lda</th>\n",
       "      <td id=\"T_70a15_row9_col0\" class=\"data row9 col0\" >Linear Discriminant Analysis</td>\n",
       "      <td id=\"T_70a15_row9_col1\" class=\"data row9 col1\" >0.7347</td>\n",
       "      <td id=\"T_70a15_row9_col2\" class=\"data row9 col2\" >0.5000</td>\n",
       "      <td id=\"T_70a15_row9_col3\" class=\"data row9 col3\" >0.0000</td>\n",
       "      <td id=\"T_70a15_row9_col4\" class=\"data row9 col4\" >0.0000</td>\n",
       "      <td id=\"T_70a15_row9_col5\" class=\"data row9 col5\" >0.0000</td>\n",
       "      <td id=\"T_70a15_row9_col6\" class=\"data row9 col6\" >0.0000</td>\n",
       "      <td id=\"T_70a15_row9_col7\" class=\"data row9 col7\" >0.0000</td>\n",
       "      <td id=\"T_70a15_row9_col8\" class=\"data row9 col8\" >0.0070</td>\n",
       "    </tr>\n",
       "    <tr>\n",
       "      <th id=\"T_70a15_level0_row10\" class=\"row_heading level0 row10\" >et</th>\n",
       "      <td id=\"T_70a15_row10_col0\" class=\"data row10 col0\" >Extra Trees Classifier</td>\n",
       "      <td id=\"T_70a15_row10_col1\" class=\"data row10 col1\" >0.7347</td>\n",
       "      <td id=\"T_70a15_row10_col2\" class=\"data row10 col2\" >0.7188</td>\n",
       "      <td id=\"T_70a15_row10_col3\" class=\"data row10 col3\" >0.0000</td>\n",
       "      <td id=\"T_70a15_row10_col4\" class=\"data row10 col4\" >0.0000</td>\n",
       "      <td id=\"T_70a15_row10_col5\" class=\"data row10 col5\" >0.0000</td>\n",
       "      <td id=\"T_70a15_row10_col6\" class=\"data row10 col6\" >0.0000</td>\n",
       "      <td id=\"T_70a15_row10_col7\" class=\"data row10 col7\" >0.0000</td>\n",
       "      <td id=\"T_70a15_row10_col8\" class=\"data row10 col8\" >0.0270</td>\n",
       "    </tr>\n",
       "    <tr>\n",
       "      <th id=\"T_70a15_level0_row11\" class=\"row_heading level0 row11\" >lightgbm</th>\n",
       "      <td id=\"T_70a15_row11_col0\" class=\"data row11 col0\" >Light Gradient Boosting Machine</td>\n",
       "      <td id=\"T_70a15_row11_col1\" class=\"data row11 col1\" >0.7347</td>\n",
       "      <td id=\"T_70a15_row11_col2\" class=\"data row11 col2\" >0.5334</td>\n",
       "      <td id=\"T_70a15_row11_col3\" class=\"data row11 col3\" >0.0000</td>\n",
       "      <td id=\"T_70a15_row11_col4\" class=\"data row11 col4\" >0.0000</td>\n",
       "      <td id=\"T_70a15_row11_col5\" class=\"data row11 col5\" >0.0000</td>\n",
       "      <td id=\"T_70a15_row11_col6\" class=\"data row11 col6\" >0.0000</td>\n",
       "      <td id=\"T_70a15_row11_col7\" class=\"data row11 col7\" >0.0000</td>\n",
       "      <td id=\"T_70a15_row11_col8\" class=\"data row11 col8\" >0.0100</td>\n",
       "    </tr>\n",
       "    <tr>\n",
       "      <th id=\"T_70a15_level0_row12\" class=\"row_heading level0 row12\" >dummy</th>\n",
       "      <td id=\"T_70a15_row12_col0\" class=\"data row12 col0\" >Dummy Classifier</td>\n",
       "      <td id=\"T_70a15_row12_col1\" class=\"data row12 col1\" >0.7347</td>\n",
       "      <td id=\"T_70a15_row12_col2\" class=\"data row12 col2\" >0.5000</td>\n",
       "      <td id=\"T_70a15_row12_col3\" class=\"data row12 col3\" >0.0000</td>\n",
       "      <td id=\"T_70a15_row12_col4\" class=\"data row12 col4\" >0.0000</td>\n",
       "      <td id=\"T_70a15_row12_col5\" class=\"data row12 col5\" >0.0000</td>\n",
       "      <td id=\"T_70a15_row12_col6\" class=\"data row12 col6\" >0.0000</td>\n",
       "      <td id=\"T_70a15_row12_col7\" class=\"data row12 col7\" >0.0000</td>\n",
       "      <td id=\"T_70a15_row12_col8\" class=\"data row12 col8\" >0.0070</td>\n",
       "    </tr>\n",
       "    <tr>\n",
       "      <th id=\"T_70a15_level0_row13\" class=\"row_heading level0 row13\" >svm</th>\n",
       "      <td id=\"T_70a15_row13_col0\" class=\"data row13 col0\" >SVM - Linear Kernel</td>\n",
       "      <td id=\"T_70a15_row13_col1\" class=\"data row13 col1\" >0.6963</td>\n",
       "      <td id=\"T_70a15_row13_col2\" class=\"data row13 col2\" >0.0000</td>\n",
       "      <td id=\"T_70a15_row13_col3\" class=\"data row13 col3\" >0.4737</td>\n",
       "      <td id=\"T_70a15_row13_col4\" class=\"data row13 col4\" >0.5641</td>\n",
       "      <td id=\"T_70a15_row13_col5\" class=\"data row13 col5\" >0.4227</td>\n",
       "      <td id=\"T_70a15_row13_col6\" class=\"data row13 col6\" >0.2508</td>\n",
       "      <td id=\"T_70a15_row13_col7\" class=\"data row13 col7\" >0.3040</td>\n",
       "      <td id=\"T_70a15_row13_col8\" class=\"data row13 col8\" >0.0090</td>\n",
       "    </tr>\n",
       "  </tbody>\n",
       "</table>\n"
      ],
      "text/plain": [
       "<pandas.io.formats.style.Styler at 0x2a94bb050>"
      ]
     },
     "metadata": {},
     "output_type": "display_data"
    },
    {
     "data": {
      "text/html": [],
      "text/plain": [
       "<IPython.core.display.HTML object>"
      ]
     },
     "metadata": {},
     "output_type": "display_data"
    }
   ],
   "source": [
    "best_model = churnML.compare_models()"
   ]
  },
  {
   "cell_type": "markdown",
   "id": "9b9fb6d6-935d-481b-9044-8cd7af94a1f7",
   "metadata": {},
   "source": [
    "Our best_model object now holds the highest-scoring model. We can also set an argument sort in compare_models to choose another metric as our scoring metric. By default, it uses accuracy."
   ]
  },
  {
   "cell_type": "code",
   "execution_count": 108,
   "id": "d21f9e92-dbeb-42d6-847b-d93f2fb3be3a",
   "metadata": {},
   "outputs": [
    {
     "data": {
      "text/html": [
       "<style>#sk-container-id-4 {color: black;background-color: white;}#sk-container-id-4 pre{padding: 0;}#sk-container-id-4 div.sk-toggleable {background-color: white;}#sk-container-id-4 label.sk-toggleable__label {cursor: pointer;display: block;width: 100%;margin-bottom: 0;padding: 0.3em;box-sizing: border-box;text-align: center;}#sk-container-id-4 label.sk-toggleable__label-arrow:before {content: \"▸\";float: left;margin-right: 0.25em;color: #696969;}#sk-container-id-4 label.sk-toggleable__label-arrow:hover:before {color: black;}#sk-container-id-4 div.sk-estimator:hover label.sk-toggleable__label-arrow:before {color: black;}#sk-container-id-4 div.sk-toggleable__content {max-height: 0;max-width: 0;overflow: hidden;text-align: left;background-color: #f0f8ff;}#sk-container-id-4 div.sk-toggleable__content pre {margin: 0.2em;color: black;border-radius: 0.25em;background-color: #f0f8ff;}#sk-container-id-4 input.sk-toggleable__control:checked~div.sk-toggleable__content {max-height: 200px;max-width: 100%;overflow: auto;}#sk-container-id-4 input.sk-toggleable__control:checked~label.sk-toggleable__label-arrow:before {content: \"▾\";}#sk-container-id-4 div.sk-estimator input.sk-toggleable__control:checked~label.sk-toggleable__label {background-color: #d4ebff;}#sk-container-id-4 div.sk-label input.sk-toggleable__control:checked~label.sk-toggleable__label {background-color: #d4ebff;}#sk-container-id-4 input.sk-hidden--visually {border: 0;clip: rect(1px 1px 1px 1px);clip: rect(1px, 1px, 1px, 1px);height: 1px;margin: -1px;overflow: hidden;padding: 0;position: absolute;width: 1px;}#sk-container-id-4 div.sk-estimator {font-family: monospace;background-color: #f0f8ff;border: 1px dotted black;border-radius: 0.25em;box-sizing: border-box;margin-bottom: 0.5em;}#sk-container-id-4 div.sk-estimator:hover {background-color: #d4ebff;}#sk-container-id-4 div.sk-parallel-item::after {content: \"\";width: 100%;border-bottom: 1px solid gray;flex-grow: 1;}#sk-container-id-4 div.sk-label:hover label.sk-toggleable__label {background-color: #d4ebff;}#sk-container-id-4 div.sk-serial::before {content: \"\";position: absolute;border-left: 1px solid gray;box-sizing: border-box;top: 0;bottom: 0;left: 50%;z-index: 0;}#sk-container-id-4 div.sk-serial {display: flex;flex-direction: column;align-items: center;background-color: white;padding-right: 0.2em;padding-left: 0.2em;position: relative;}#sk-container-id-4 div.sk-item {position: relative;z-index: 1;}#sk-container-id-4 div.sk-parallel {display: flex;align-items: stretch;justify-content: center;background-color: white;position: relative;}#sk-container-id-4 div.sk-item::before, #sk-container-id-4 div.sk-parallel-item::before {content: \"\";position: absolute;border-left: 1px solid gray;box-sizing: border-box;top: 0;bottom: 0;left: 50%;z-index: -1;}#sk-container-id-4 div.sk-parallel-item {display: flex;flex-direction: column;z-index: 1;position: relative;background-color: white;}#sk-container-id-4 div.sk-parallel-item:first-child::after {align-self: flex-end;width: 50%;}#sk-container-id-4 div.sk-parallel-item:last-child::after {align-self: flex-start;width: 50%;}#sk-container-id-4 div.sk-parallel-item:only-child::after {width: 0;}#sk-container-id-4 div.sk-dashed-wrapped {border: 1px dashed gray;margin: 0 0.4em 0.5em 0.4em;box-sizing: border-box;padding-bottom: 0.4em;background-color: white;}#sk-container-id-4 div.sk-label label {font-family: monospace;font-weight: bold;display: inline-block;line-height: 1.2em;}#sk-container-id-4 div.sk-label-container {text-align: center;}#sk-container-id-4 div.sk-container {/* jupyter's `normalize.less` sets `[hidden] { display: none; }` but bootstrap.min.css set `[hidden] { display: none !important; }` so we also need the `!important` here to be able to override the default hidden behavior on the sphinx rendered scikit-learn.org. See: https://github.com/scikit-learn/scikit-learn/issues/21755 */display: inline-block !important;position: relative;}#sk-container-id-4 div.sk-text-repr-fallback {display: none;}</style><div id=\"sk-container-id-4\" class=\"sk-top-container\"><div class=\"sk-text-repr-fallback\"><pre>GaussianNB(priors=None, var_smoothing=1e-09)</pre><b>In a Jupyter environment, please rerun this cell to show the HTML representation or trust the notebook. <br />On GitHub, the HTML representation is unable to render, please try loading this page with nbviewer.org.</b></div><div class=\"sk-container\" hidden><div class=\"sk-item\"><div class=\"sk-estimator sk-toggleable\"><input class=\"sk-toggleable__control sk-hidden--visually\" id=\"sk-estimator-id-4\" type=\"checkbox\" checked><label for=\"sk-estimator-id-4\" class=\"sk-toggleable__label sk-toggleable__label-arrow\">GaussianNB</label><div class=\"sk-toggleable__content\"><pre>GaussianNB(priors=None, var_smoothing=1e-09)</pre></div></div></div></div></div>"
      ],
      "text/plain": [
       "GaussianNB(priors=None, var_smoothing=1e-09)"
      ]
     },
     "execution_count": 108,
     "metadata": {},
     "output_type": "execute_result"
    }
   ],
   "source": [
    "best_model"
   ]
  },
  {
   "cell_type": "markdown",
   "id": "99c2acb0-f383-4637-87c8-9eb6f2df4b7a",
   "metadata": {},
   "source": [
    "We can now evaluate a variety of information about the best model:"
   ]
  },
  {
   "cell_type": "code",
   "execution_count": 92,
   "id": "e810edf5-a563-462a-929f-23d2997b0f2b",
   "metadata": {},
   "outputs": [
    {
     "data": {
      "application/vnd.jupyter.widget-view+json": {
       "model_id": "fdf0ab984ca84702aaea66414c292e3a",
       "version_major": 2,
       "version_minor": 0
      },
      "text/plain": [
       "interactive(children=(ToggleButtons(description='Plot Type:', icons=('',), options=(('Pipeline Plot', 'pipelin…"
      ]
     },
     "metadata": {},
     "output_type": "display_data"
    }
   ],
   "source": [
    "churnML.evaluate_model(best_model)"
   ]
  },
  {
   "cell_type": "markdown",
   "id": "1ee3de2c-13bb-4e7c-ad17-3aa274c347ae",
   "metadata": {},
   "source": [
    "We can now plot a variety of information about the best model:"
   ]
  },
  {
   "cell_type": "code",
   "execution_count": 93,
   "id": "a67b40c3-40b3-46fb-93df-6a9c4f688869",
   "metadata": {},
   "outputs": [
    {
     "data": {
      "text/html": [],
      "text/plain": [
       "<IPython.core.display.HTML object>"
      ]
     },
     "metadata": {},
     "output_type": "display_data"
    },
    {
     "data": {
      "image/png": "[encoded data removed]",
      "text/plain": [
       "<Figure size 800x550 with 1 Axes>"
      ]
     },
     "metadata": {},
     "output_type": "display_data"
    }
   ],
   "source": [
    "churnML.plot_model(best_model)"
   ]
  },
  {
   "cell_type": "markdown",
   "id": "9302ff8c-b51e-4fb3-a3d0-d9b5dd81e2a3",
   "metadata": {},
   "source": [
    "PyCaret can also plot a confusion matrix:"
   ]
  },
  {
   "cell_type": "code",
   "execution_count": 94,
   "id": "a5d38cbe-5cad-4e7f-abf0-73aa3bc690f8",
   "metadata": {},
   "outputs": [
    {
     "data": {
      "text/html": [],
      "text/plain": [
       "<IPython.core.display.HTML object>"
      ]
     },
     "metadata": {},
     "output_type": "display_data"
    },
    {
     "data": {
      "image/png": "[encoded data removed]",
      "text/plain": [
       "<Figure size 800x550 with 1 Axes>"
      ]
     },
     "metadata": {},
     "output_type": "display_data"
    }
   ],
   "source": [
    "churnML.plot_model(best_model, plot = 'confusion_matrix')"
   ]
  },
  {
   "cell_type": "markdown",
   "id": "16dc9028-21ea-401e-8a9d-d9202ee601d4",
   "metadata": {},
   "source": [
    "We can now make predictions. For example, we can make predictions on the last row:"
   ]
  },
  {
   "cell_type": "code",
   "execution_count": 95,
   "id": "f86f7b2e-4e44-44f6-a627-5da80dac307c",
   "metadata": {},
   "outputs": [
    {
     "data": {
      "text/plain": [
       "(1, 8)"
      ]
     },
     "execution_count": 95,
     "metadata": {},
     "output_type": "execute_result"
    }
   ],
   "source": [
    "gs.iloc[-2:-1].shape"
   ]
  },
  {
   "cell_type": "markdown",
   "id": "0eee8021-65b0-43b5-8cc9-6fa7972df0fa",
   "metadata": {},
   "source": [
    "We are selecting the last row, but using the indexing [-2:-1] to make it a 2D array instead of 1D (which throws an error).\n",
    "\n",
    "We can use pycaret's predict_model function with the row above:"
   ]
  },
  {
   "cell_type": "code",
   "execution_count": 96,
   "id": "40735903-2411-4190-ad9d-4b568272e5fd",
   "metadata": {},
   "outputs": [
    {
     "data": {
      "text/html": [
       "<style type=\"text/css\">\n",
       "</style>\n",
       "<table id=\"T_f9109\">\n",
       "  <thead>\n",
       "    <tr>\n",
       "      <th class=\"blank level0\" >&nbsp;</th>\n",
       "      <th id=\"T_f9109_level0_col0\" class=\"col_heading level0 col0\" >Model</th>\n",
       "      <th id=\"T_f9109_level0_col1\" class=\"col_heading level0 col1\" >Accuracy</th>\n",
       "      <th id=\"T_f9109_level0_col2\" class=\"col_heading level0 col2\" >AUC</th>\n",
       "      <th id=\"T_f9109_level0_col3\" class=\"col_heading level0 col3\" >Recall</th>\n",
       "      <th id=\"T_f9109_level0_col4\" class=\"col_heading level0 col4\" >Prec.</th>\n",
       "      <th id=\"T_f9109_level0_col5\" class=\"col_heading level0 col5\" >F1</th>\n",
       "      <th id=\"T_f9109_level0_col6\" class=\"col_heading level0 col6\" >Kappa</th>\n",
       "      <th id=\"T_f9109_level0_col7\" class=\"col_heading level0 col7\" >MCC</th>\n",
       "    </tr>\n",
       "  </thead>\n",
       "  <tbody>\n",
       "    <tr>\n",
       "      <th id=\"T_f9109_level0_row0\" class=\"row_heading level0 row0\" >0</th>\n",
       "      <td id=\"T_f9109_row0_col0\" class=\"data row0 col0\" >Naive Bayes</td>\n",
       "      <td id=\"T_f9109_row0_col1\" class=\"data row0 col1\" >1.0000</td>\n",
       "      <td id=\"T_f9109_row0_col2\" class=\"data row0 col2\" >0</td>\n",
       "      <td id=\"T_f9109_row0_col3\" class=\"data row0 col3\" >1.0000</td>\n",
       "      <td id=\"T_f9109_row0_col4\" class=\"data row0 col4\" >1.0000</td>\n",
       "      <td id=\"T_f9109_row0_col5\" class=\"data row0 col5\" >1.0000</td>\n",
       "      <td id=\"T_f9109_row0_col6\" class=\"data row0 col6\" >nan</td>\n",
       "      <td id=\"T_f9109_row0_col7\" class=\"data row0 col7\" >0.0000</td>\n",
       "    </tr>\n",
       "  </tbody>\n",
       "</table>\n"
      ],
      "text/plain": [
       "<pandas.io.formats.style.Styler at 0x2a961e110>"
      ]
     },
     "metadata": {},
     "output_type": "display_data"
    },
    {
     "data": {
      "text/html": [
       "<div>\n",
       "<style scoped>\n",
       "    .dataframe tbody tr th:only-of-type {\n",
       "        vertical-align: middle;\n",
       "    }\n",
       "\n",
       "    .dataframe tbody tr th {\n",
       "        vertical-align: top;\n",
       "    }\n",
       "\n",
       "    .dataframe thead th {\n",
       "        text-align: right;\n",
       "    }\n",
       "</style>\n",
       "<table border=\"1\" class=\"dataframe\">\n",
       "  <thead>\n",
       "    <tr style=\"text-align: right;\">\n",
       "      <th></th>\n",
       "      <th>customerID</th>\n",
       "      <th>tenure</th>\n",
       "      <th>PhoneService</th>\n",
       "      <th>Contract</th>\n",
       "      <th>PaymentMethod</th>\n",
       "      <th>MonthlyCharges</th>\n",
       "      <th>TotalCharges</th>\n",
       "      <th>Churn</th>\n",
       "      <th>prediction_label</th>\n",
       "      <th>prediction_score</th>\n",
       "    </tr>\n",
       "  </thead>\n",
       "  <tbody>\n",
       "    <tr>\n",
       "      <th>7041</th>\n",
       "      <td>8361-LTMKD</td>\n",
       "      <td>4</td>\n",
       "      <td>1</td>\n",
       "      <td>0</td>\n",
       "      <td>0</td>\n",
       "      <td>74.400002</td>\n",
       "      <td>306.600006</td>\n",
       "      <td>1</td>\n",
       "      <td>1</td>\n",
       "      <td>0.8177</td>\n",
       "    </tr>\n",
       "  </tbody>\n",
       "</table>\n",
       "</div>"
      ],
      "text/plain": [
       "      customerID  tenure  PhoneService  Contract  PaymentMethod  \\\n",
       "7041  8361-LTMKD       4             1         0              0   \n",
       "\n",
       "      MonthlyCharges  TotalCharges  Churn  prediction_label  prediction_score  \n",
       "7041       74.400002    306.600006      1                 1            0.8177  "
      ]
     },
     "execution_count": 96,
     "metadata": {},
     "output_type": "execute_result"
    }
   ],
   "source": [
    "churnML.predict_model(best_model, gs.iloc[-2:-1])"
   ]
  },
  {
   "cell_type": "markdown",
   "id": "0d20f9b8-9bd7-4ac4-ba7f-df867c5b4d13",
   "metadata": {},
   "source": [
    "We can see this creates a new column, 'Score', with the probability of class 1. It also creates a 'Label' column with the predicted label, where it rounds up if score is >= 0.5 (greater than or equal to 0.5).\n",
    "\n",
    "We can also do predictions for the whole dataset:"
   ]
  },
  {
   "cell_type": "code",
   "execution_count": 97,
   "id": "cc486cf9-6224-420e-9149-f5e7d764238a",
   "metadata": {},
   "outputs": [
    {
     "data": {
      "text/html": [
       "<style type=\"text/css\">\n",
       "</style>\n",
       "<table id=\"T_01dc3\">\n",
       "  <thead>\n",
       "    <tr>\n",
       "      <th class=\"blank level0\" >&nbsp;</th>\n",
       "      <th id=\"T_01dc3_level0_col0\" class=\"col_heading level0 col0\" >Model</th>\n",
       "      <th id=\"T_01dc3_level0_col1\" class=\"col_heading level0 col1\" >Accuracy</th>\n",
       "      <th id=\"T_01dc3_level0_col2\" class=\"col_heading level0 col2\" >AUC</th>\n",
       "      <th id=\"T_01dc3_level0_col3\" class=\"col_heading level0 col3\" >Recall</th>\n",
       "      <th id=\"T_01dc3_level0_col4\" class=\"col_heading level0 col4\" >Prec.</th>\n",
       "      <th id=\"T_01dc3_level0_col5\" class=\"col_heading level0 col5\" >F1</th>\n",
       "      <th id=\"T_01dc3_level0_col6\" class=\"col_heading level0 col6\" >Kappa</th>\n",
       "      <th id=\"T_01dc3_level0_col7\" class=\"col_heading level0 col7\" >MCC</th>\n",
       "    </tr>\n",
       "  </thead>\n",
       "  <tbody>\n",
       "    <tr>\n",
       "      <th id=\"T_01dc3_level0_row0\" class=\"row_heading level0 row0\" >0</th>\n",
       "      <td id=\"T_01dc3_row0_col0\" class=\"data row0 col0\" >Naive Bayes</td>\n",
       "      <td id=\"T_01dc3_row0_col1\" class=\"data row0 col1\" >0.8461</td>\n",
       "      <td id=\"T_01dc3_row0_col2\" class=\"data row0 col2\" >0.9039</td>\n",
       "      <td id=\"T_01dc3_row0_col3\" class=\"data row0 col3\" >0.7817</td>\n",
       "      <td id=\"T_01dc3_row0_col4\" class=\"data row0 col4\" >0.6837</td>\n",
       "      <td id=\"T_01dc3_row0_col5\" class=\"data row0 col5\" >0.7294</td>\n",
       "      <td id=\"T_01dc3_row0_col6\" class=\"data row0 col6\" >0.6225</td>\n",
       "      <td id=\"T_01dc3_row0_col7\" class=\"data row0 col7\" >0.6253</td>\n",
       "    </tr>\n",
       "  </tbody>\n",
       "</table>\n"
      ],
      "text/plain": [
       "<pandas.io.formats.style.Styler at 0x2a9066a10>"
      ]
     },
     "metadata": {},
     "output_type": "display_data"
    }
   ],
   "source": [
    "predictions = churnML.predict_model(best_model, data=gs)"
   ]
  },
  {
   "cell_type": "markdown",
   "id": "b03a4a59-6220-418c-9f84-b9aed4d88331",
   "metadata": {},
   "source": [
    "First 5 rows of predictions are as shown below:"
   ]
  },
  {
   "cell_type": "code",
   "execution_count": 98,
   "id": "f9d019c8-53cf-4296-8f82-c34391e5a45b",
   "metadata": {},
   "outputs": [
    {
     "data": {
      "text/html": [
       "<div>\n",
       "<style scoped>\n",
       "    .dataframe tbody tr th:only-of-type {\n",
       "        vertical-align: middle;\n",
       "    }\n",
       "\n",
       "    .dataframe tbody tr th {\n",
       "        vertical-align: top;\n",
       "    }\n",
       "\n",
       "    .dataframe thead th {\n",
       "        text-align: right;\n",
       "    }\n",
       "</style>\n",
       "<table border=\"1\" class=\"dataframe\">\n",
       "  <thead>\n",
       "    <tr style=\"text-align: right;\">\n",
       "      <th></th>\n",
       "      <th>customerID</th>\n",
       "      <th>tenure</th>\n",
       "      <th>PhoneService</th>\n",
       "      <th>Contract</th>\n",
       "      <th>PaymentMethod</th>\n",
       "      <th>MonthlyCharges</th>\n",
       "      <th>TotalCharges</th>\n",
       "      <th>Churn</th>\n",
       "      <th>prediction_label</th>\n",
       "      <th>prediction_score</th>\n",
       "    </tr>\n",
       "  </thead>\n",
       "  <tbody>\n",
       "    <tr>\n",
       "      <th>0</th>\n",
       "      <td>7590-VHVEG</td>\n",
       "      <td>1</td>\n",
       "      <td>0</td>\n",
       "      <td>0</td>\n",
       "      <td>0</td>\n",
       "      <td>29.850000</td>\n",
       "      <td>29.850000</td>\n",
       "      <td>0</td>\n",
       "      <td>1</td>\n",
       "      <td>0.6101</td>\n",
       "    </tr>\n",
       "    <tr>\n",
       "      <th>1</th>\n",
       "      <td>5575-GNVDE</td>\n",
       "      <td>34</td>\n",
       "      <td>1</td>\n",
       "      <td>1</td>\n",
       "      <td>0</td>\n",
       "      <td>56.950001</td>\n",
       "      <td>1889.500000</td>\n",
       "      <td>0</td>\n",
       "      <td>0</td>\n",
       "      <td>0.9941</td>\n",
       "    </tr>\n",
       "    <tr>\n",
       "      <th>2</th>\n",
       "      <td>3668-QPYBK</td>\n",
       "      <td>2</td>\n",
       "      <td>1</td>\n",
       "      <td>0</td>\n",
       "      <td>0</td>\n",
       "      <td>53.849998</td>\n",
       "      <td>108.150002</td>\n",
       "      <td>1</td>\n",
       "      <td>1</td>\n",
       "      <td>0.9726</td>\n",
       "    </tr>\n",
       "    <tr>\n",
       "      <th>3</th>\n",
       "      <td>7795-CFOCW</td>\n",
       "      <td>45</td>\n",
       "      <td>0</td>\n",
       "      <td>1</td>\n",
       "      <td>1</td>\n",
       "      <td>42.299999</td>\n",
       "      <td>1840.750000</td>\n",
       "      <td>0</td>\n",
       "      <td>0</td>\n",
       "      <td>0.9994</td>\n",
       "    </tr>\n",
       "    <tr>\n",
       "      <th>4</th>\n",
       "      <td>9237-HQITU</td>\n",
       "      <td>2</td>\n",
       "      <td>1</td>\n",
       "      <td>0</td>\n",
       "      <td>0</td>\n",
       "      <td>70.699997</td>\n",
       "      <td>151.649994</td>\n",
       "      <td>1</td>\n",
       "      <td>1</td>\n",
       "      <td>0.8167</td>\n",
       "    </tr>\n",
       "  </tbody>\n",
       "</table>\n",
       "</div>"
      ],
      "text/plain": [
       "   customerID  tenure  PhoneService  Contract  PaymentMethod  MonthlyCharges  \\\n",
       "0  7590-VHVEG       1             0         0              0       29.850000   \n",
       "1  5575-GNVDE      34             1         1              0       56.950001   \n",
       "2  3668-QPYBK       2             1         0              0       53.849998   \n",
       "3  7795-CFOCW      45             0         1              1       42.299999   \n",
       "4  9237-HQITU       2             1         0              0       70.699997   \n",
       "\n",
       "   TotalCharges  Churn  prediction_label  prediction_score  \n",
       "0     29.850000      0                 1            0.6101  \n",
       "1   1889.500000      0                 0            0.9941  \n",
       "2    108.150002      1                 1            0.9726  \n",
       "3   1840.750000      0                 0            0.9994  \n",
       "4    151.649994      1                 1            0.8167  "
      ]
     },
     "execution_count": 98,
     "metadata": {},
     "output_type": "execute_result"
    }
   ],
   "source": [
    "predictions.head()"
   ]
  },
  {
   "cell_type": "code",
   "execution_count": 99,
   "id": "af433678-2629-4d0e-bb38-314b8da02371",
   "metadata": {},
   "outputs": [
    {
     "name": "stdout",
     "output_type": "stream",
     "text": [
      "Transformation Pipeline and Model Successfully Saved\n"
     ]
    },
    {
     "data": {
      "text/plain": [
       "(Pipeline(memory=Memory(location=None),\n",
       "          steps=[('numerical_imputer',\n",
       "                  TransformerWrapper(exclude=None,\n",
       "                                     include=['tenure', 'PhoneService',\n",
       "                                              'Contract', 'PaymentMethod',\n",
       "                                              'MonthlyCharges', 'TotalCharges'],\n",
       "                                     transformer=SimpleImputer(add_indicator=False,\n",
       "                                                               copy=True,\n",
       "                                                               fill_value=None,\n",
       "                                                               missing_values=nan,\n",
       "                                                               strategy='mean',\n",
       "                                                               verbose='deprecated'))),\n",
       "                 ('categorical_imputer',\n",
       "                  Trans...\n",
       "                                                               verbose='deprecated'))),\n",
       "                 ('rest_encoding',\n",
       "                  TransformerWrapper(exclude=None, include=['customerID'],\n",
       "                                     transformer=TargetEncoder(cols=['customerID'],\n",
       "                                                               drop_invariant=False,\n",
       "                                                               handle_missing='return_nan',\n",
       "                                                               handle_unknown='value',\n",
       "                                                               hierarchy=None,\n",
       "                                                               min_samples_leaf=20,\n",
       "                                                               return_df=True,\n",
       "                                                               smoothing=10,\n",
       "                                                               verbose=0))),\n",
       "                 ('trained_model',\n",
       "                  GaussianNB(priors=None, var_smoothing=1e-09))],\n",
       "          verbose=False),\n",
       " 'pycaret_model.pkl')"
      ]
     },
     "execution_count": 99,
     "metadata": {},
     "output_type": "execute_result"
    }
   ],
   "source": [
    "churnML.save_model(best_model, 'pycaret_model')"
   ]
  },
  {
   "cell_type": "markdown",
   "id": "c5277796-b85a-4ac5-9402-2631e88dd758",
   "metadata": {},
   "source": [
    "Saving and Loading the Model"
   ]
  },
  {
   "cell_type": "markdown",
   "id": "38962b41-45bf-41fd-9a17-30c5e88e44fd",
   "metadata": {},
   "source": [
    "Next, we want to save our trained model so we can use it in a Python file later. pycaret has a handy function for this, which saves the model as a pickle file:"
   ]
  },
  {
   "cell_type": "code",
   "execution_count": 100,
   "id": "5b092158-41bc-47f5-a279-7788f7951ad2",
   "metadata": {},
   "outputs": [
    {
     "name": "stdout",
     "output_type": "stream",
     "text": [
      "Transformation Pipeline and Model Successfully Loaded\n"
     ]
    }
   ],
   "source": [
    "new_pycaret = ClassificationExperiment()\n",
    "loaded_model = new_pycaret.load_model('pycaret_model')"
   ]
  },
  {
   "cell_type": "markdown",
   "id": "b4055ff5-e9ba-4c25-89cf-6edd4533daed",
   "metadata": {},
   "source": [
    "Once we have our saved pycaret model, we can test loading it and making predictions to make sure it works:"
   ]
  },
  {
   "cell_type": "code",
   "execution_count": 101,
   "id": "1fdb245e-a9f5-4ea1-9cb1-b1c81d7030b5",
   "metadata": {},
   "outputs": [
    {
     "data": {
      "text/html": [
       "<div>\n",
       "<style scoped>\n",
       "    .dataframe tbody tr th:only-of-type {\n",
       "        vertical-align: middle;\n",
       "    }\n",
       "\n",
       "    .dataframe tbody tr th {\n",
       "        vertical-align: top;\n",
       "    }\n",
       "\n",
       "    .dataframe thead th {\n",
       "        text-align: right;\n",
       "    }\n",
       "</style>\n",
       "<table border=\"1\" class=\"dataframe\">\n",
       "  <thead>\n",
       "    <tr style=\"text-align: right;\">\n",
       "      <th></th>\n",
       "      <th>customerID</th>\n",
       "      <th>tenure</th>\n",
       "      <th>PhoneService</th>\n",
       "      <th>Contract</th>\n",
       "      <th>PaymentMethod</th>\n",
       "      <th>MonthlyCharges</th>\n",
       "      <th>TotalCharges</th>\n",
       "      <th>Churn</th>\n",
       "      <th>prediction_label</th>\n",
       "      <th>prediction_score</th>\n",
       "    </tr>\n",
       "  </thead>\n",
       "  <tbody>\n",
       "    <tr>\n",
       "      <th>7041</th>\n",
       "      <td>8361-LTMKD</td>\n",
       "      <td>4</td>\n",
       "      <td>1</td>\n",
       "      <td>0</td>\n",
       "      <td>0</td>\n",
       "      <td>74.400002</td>\n",
       "      <td>306.600006</td>\n",
       "      <td>1</td>\n",
       "      <td>1</td>\n",
       "      <td>0.8177</td>\n",
       "    </tr>\n",
       "  </tbody>\n",
       "</table>\n",
       "</div>"
      ],
      "text/plain": [
       "      customerID  tenure  PhoneService  Contract  PaymentMethod  \\\n",
       "7041  8361-LTMKD       4             1         0              0   \n",
       "\n",
       "      MonthlyCharges  TotalCharges  Churn  prediction_label  prediction_score  \n",
       "7041       74.400002    306.600006      1                 1            0.8177  "
      ]
     },
     "execution_count": 101,
     "metadata": {},
     "output_type": "execute_result"
    }
   ],
   "source": [
    "new_pycaret.predict_model(loaded_model, gs.iloc[-2:-1])"
   ]
  },
  {
   "cell_type": "markdown",
   "id": "eebf4485-c543-4baf-a885-c33846c55913",
   "metadata": {},
   "source": [
    "Making a Python module to make predictions"
   ]
  },
  {
   "cell_type": "code",
   "execution_count": 102,
   "id": "d331fbbe-0ab4-4c31-b015-193635a29c5e",
   "metadata": {},
   "outputs": [
    {
     "data": {
      "text/html": [
       "<style>pre { line-height: 125%; }\n",
       "td.linenos .normal { color: inherit; background-color: transparent; padding-left: 5px; padding-right: 5px; }\n",
       "span.linenos { color: inherit; background-color: transparent; padding-left: 5px; padding-right: 5px; }\n",
       "td.linenos .special { color: #000000; background-color: #ffffc0; padding-left: 5px; padding-right: 5px; }\n",
       "span.linenos.special { color: #000000; background-color: #ffffc0; padding-left: 5px; padding-right: 5px; }\n",
       ".output_html .hll { background-color: #ffffcc }\n",
       ".output_html { background: #f8f8f8; }\n",
       ".output_html .c { color: #3D7B7B; font-style: italic } /* Comment */\n",
       ".output_html .err { border: 1px solid #FF0000 } /* Error */\n",
       ".output_html .k { color: #008000; font-weight: bold } /* Keyword */\n",
       ".output_html .o { color: #666666 } /* Operator */\n",
       ".output_html .ch { color: #3D7B7B; font-style: italic } /* Comment.Hashbang */\n",
       ".output_html .cm { color: #3D7B7B; font-style: italic } /* Comment.Multiline */\n",
       ".output_html .cp { color: #9C6500 } /* Comment.Preproc */\n",
       ".output_html .cpf { color: #3D7B7B; font-style: italic } /* Comment.PreprocFile */\n",
       ".output_html .c1 { color: #3D7B7B; font-style: italic } /* Comment.Single */\n",
       ".output_html .cs { color: #3D7B7B; font-style: italic } /* Comment.Special */\n",
       ".output_html .gd { color: #A00000 } /* Generic.Deleted */\n",
       ".output_html .ge { font-style: italic } /* Generic.Emph */\n",
       ".output_html .gr { color: #E40000 } /* Generic.Error */\n",
       ".output_html .gh { color: #000080; font-weight: bold } /* Generic.Heading */\n",
       ".output_html .gi { color: #008400 } /* Generic.Inserted */\n",
       ".output_html .go { color: #717171 } /* Generic.Output */\n",
       ".output_html .gp { color: #000080; font-weight: bold } /* Generic.Prompt */\n",
       ".output_html .gs { font-weight: bold } /* Generic.Strong */\n",
       ".output_html .gu { color: #800080; font-weight: bold } /* Generic.Subheading */\n",
       ".output_html .gt { color: #0044DD } /* Generic.Traceback */\n",
       ".output_html .kc { color: #008000; font-weight: bold } /* Keyword.Constant */\n",
       ".output_html .kd { color: #008000; font-weight: bold } /* Keyword.Declaration */\n",
       ".output_html .kn { color: #008000; font-weight: bold } /* Keyword.Namespace */\n",
       ".output_html .kp { color: #008000 } /* Keyword.Pseudo */\n",
       ".output_html .kr { color: #008000; font-weight: bold } /* Keyword.Reserved */\n",
       ".output_html .kt { color: #B00040 } /* Keyword.Type */\n",
       ".output_html .m { color: #666666 } /* Literal.Number */\n",
       ".output_html .s { color: #BA2121 } /* Literal.String */\n",
       ".output_html .na { color: #687822 } /* Name.Attribute */\n",
       ".output_html .nb { color: #008000 } /* Name.Builtin */\n",
       ".output_html .nc { color: #0000FF; font-weight: bold } /* Name.Class */\n",
       ".output_html .no { color: #880000 } /* Name.Constant */\n",
       ".output_html .nd { color: #AA22FF } /* Name.Decorator */\n",
       ".output_html .ni { color: #717171; font-weight: bold } /* Name.Entity */\n",
       ".output_html .ne { color: #CB3F38; font-weight: bold } /* Name.Exception */\n",
       ".output_html .nf { color: #0000FF } /* Name.Function */\n",
       ".output_html .nl { color: #767600 } /* Name.Label */\n",
       ".output_html .nn { color: #0000FF; font-weight: bold } /* Name.Namespace */\n",
       ".output_html .nt { color: #008000; font-weight: bold } /* Name.Tag */\n",
       ".output_html .nv { color: #19177C } /* Name.Variable */\n",
       ".output_html .ow { color: #AA22FF; font-weight: bold } /* Operator.Word */\n",
       ".output_html .w { color: #bbbbbb } /* Text.Whitespace */\n",
       ".output_html .mb { color: #666666 } /* Literal.Number.Bin */\n",
       ".output_html .mf { color: #666666 } /* Literal.Number.Float */\n",
       ".output_html .mh { color: #666666 } /* Literal.Number.Hex */\n",
       ".output_html .mi { color: #666666 } /* Literal.Number.Integer */\n",
       ".output_html .mo { color: #666666 } /* Literal.Number.Oct */\n",
       ".output_html .sa { color: #BA2121 } /* Literal.String.Affix */\n",
       ".output_html .sb { color: #BA2121 } /* Literal.String.Backtick */\n",
       ".output_html .sc { color: #BA2121 } /* Literal.String.Char */\n",
       ".output_html .dl { color: #BA2121 } /* Literal.String.Delimiter */\n",
       ".output_html .sd { color: #BA2121; font-style: italic } /* Literal.String.Doc */\n",
       ".output_html .s2 { color: #BA2121 } /* Literal.String.Double */\n",
       ".output_html .se { color: #AA5D1F; font-weight: bold } /* Literal.String.Escape */\n",
       ".output_html .sh { color: #BA2121 } /* Literal.String.Heredoc */\n",
       ".output_html .si { color: #A45A77; font-weight: bold } /* Literal.String.Interpol */\n",
       ".output_html .sx { color: #008000 } /* Literal.String.Other */\n",
       ".output_html .sr { color: #A45A77 } /* Literal.String.Regex */\n",
       ".output_html .s1 { color: #BA2121 } /* Literal.String.Single */\n",
       ".output_html .ss { color: #19177C } /* Literal.String.Symbol */\n",
       ".output_html .bp { color: #008000 } /* Name.Builtin.Pseudo */\n",
       ".output_html .fm { color: #0000FF } /* Name.Function.Magic */\n",
       ".output_html .vc { color: #19177C } /* Name.Variable.Class */\n",
       ".output_html .vg { color: #19177C } /* Name.Variable.Global */\n",
       ".output_html .vi { color: #19177C } /* Name.Variable.Instance */\n",
       ".output_html .vm { color: #19177C } /* Name.Variable.Magic */\n",
       ".output_html .il { color: #666666 } /* Literal.Number.Integer.Long */</style><div class=\"highlight\"><pre><span></span>predict_churn_pycaret.py\n",
       "</pre></div>\n"
      ],
      "text/latex": [
       "\\begin{Verbatim}[commandchars=\\\\\\{\\}]\n",
       "predict\\PYZus{}churn\\PYZus{}pycaret.py\n",
       "\\end{Verbatim}\n"
      ],
      "text/plain": [
       "predict_churn_pycaret.py"
      ]
     },
     "execution_count": 102,
     "metadata": {},
     "output_type": "execute_result"
    }
   ],
   "source": [
    "from IPython.display import Code\n",
    "\n",
    "Code('predict_churn_pycaret.py')"
   ]
  },
  {
   "cell_type": "markdown",
   "id": "4968cda6-c735-4bc0-9aed-4fb773cd4423",
   "metadata": {},
   "source": [
    "Created a Python script with a function that takes a pandas dataframe as an input and returns the probability of churn for each row in the dataframe, Python file/function should print out the predictions for new_churn_data.csv and the true values for the new data are [1, 0, 0, 1, 0] to print the data as 1s and 0's for this I commented the predictions replace method from the reference.\n"
   ]
  },
  {
   "cell_type": "code",
   "execution_count": 105,
   "id": "ad235eb8-8fab-4a62-9f05-9a9c3599f6c7",
   "metadata": {},
   "outputs": [
    {
     "name": "stdout",
     "output_type": "stream",
     "text": [
      "Transformation Pipeline and Model Successfully Loaded\n",
      "predictions:\n",
      "0       0\n",
      "1       0\n",
      "2       1\n",
      "3       0\n",
      "4       1\n",
      "       ..\n",
      "7038    0\n",
      "7039    0\n",
      "7040    0\n",
      "7041    1\n",
      "7042    0\n",
      "Name: Churn, Length: 7043, dtype: int8\n"
     ]
    }
   ],
   "source": [
    "import pandas as pd\n",
    "from pycaret.classification import ClassificationExperiment\n",
    "\n",
    "def load_data(filepath):\n",
    "    \"\"\"\n",
    "    Loads Churn data into a DataFrame from a string filepath.\n",
    "    \"\"\"\n",
    "    gs = pd.read_csv('/users/p2942432/downloads/churn_data.csv')\n",
    "    return gs\n",
    "\n",
    "\n",
    "def make_predictions(gs):\n",
    "    \"\"\"\n",
    "    Uses the pycaret best model to make predictions on data in the gs dataframe.\n",
    "    \"\"\"\n",
    "    classifier = ClassificationExperiment()\n",
    "    model = classifier.load_model('pycaret_model')\n",
    "    predictions = classifier.predict_model(model, data=gs)\n",
    "    predictions.rename({'Label': 'Churn'}, axis=1, inplace=True)\n",
    "    # predictions['Churn'].replace({1: 'Yes', 0: 'No'},\n",
    "                                            #inplace=True)\n",
    "    return predictions['Churn']\n",
    "\n",
    "\n",
    "if __name__ == \"__main__\":\n",
    "    df = load_data('../data/new_churn_data.csv')\n",
    "    predictions = make_predictions(gs)\n",
    "    print('predictions:')\n",
    "    print(predictions)"
   ]
  },
  {
   "cell_type": "markdown",
   "id": "c49db562",
   "metadata": {},
   "source": [
    "# Summary"
   ]
  },
  {
   "cell_type": "markdown",
   "id": "9533a1cd",
   "metadata": {},
   "source": [
    "Learned how to use the data frame converted to Python scripting and model succesfully loaded then displayed the churn data predictions as requested in binary [1,0]. In this week, learned how to install Pycaret packages and imported classification experiment modules include setup, compare, predication, save and load modules. Bit struggled with python script troubleshooting 2 days back and finally fixed all the issues and get the churn data Model prediction successfully loaded."
   ]
  }
 ],
 "metadata": {
  "kernelspec": {
   "display_name": "Python 3 (ipykernel)",
   "language": "python",
   "name": "python3"
  },
  "language_info": {
   "codemirror_mode": {
    "name": "ipython",
    "version": 3
   },
   "file_extension": ".py",
   "mimetype": "text/x-python",
   "name": "python",
   "nbconvert_exporter": "python",
   "pygments_lexer": "ipython3",
   "version": "3.11.7"
  }
 },
 "nbformat": 4,
 "nbformat_minor": 5
}
